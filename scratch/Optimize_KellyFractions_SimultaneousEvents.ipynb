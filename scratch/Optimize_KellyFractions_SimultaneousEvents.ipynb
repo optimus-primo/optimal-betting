{
 "cells": [
  {
   "cell_type": "code",
   "execution_count": 1,
   "metadata": {
    "collapsed": false
   },
   "outputs": [],
   "source": [
    "import numpy as np\n",
    "from SamplerTools import CoinFlipSampler, expected_log_return, optimal_kelly_fractions"
   ]
  },
  {
   "cell_type": "markdown",
   "metadata": {},
   "source": [
    "## Optimization porblem at hand\n",
    "The following function returns expected growth rate per trial for a set of simultaneous events, multiple coin flips in this case. \n",
    "\n",
    "$g(f_1, f_2, \\cdots) = \\sum_i p_i[1 + \\log(\\sum_k s_k f_k)]$\n",
    "\n",
    "Where $i$ is an index over all possible outcomes of the simultaneous coin flip, and hence $p_i$ is the probability of $i^{th}$ outcome, $k$ is an index over coins in the $i^{th}$ outcome, $s_k$ is the outcome for $k^{th}$ coin and $f_k$ is the fraction of wealth bet on $k^{th}$ coin.\n",
    "\n",
    "Our goal is to determine the values of $f_k$ that maximize $g$ under the constraints is that $\\sum_k f_k < 1$."
   ]
  },
  {
   "cell_type": "code",
   "execution_count": 21,
   "metadata": {
    "collapsed": false
   },
   "outputs": [
    {
     "name": "stdout",
     "output_type": "stream",
     "text": [
      "Expected log return for initial guess:  0.0215465399606\n",
      "Expected log return for final guess:  0.0339793658621\n",
      "Optimized kelly fractions:  [ 0.16681098  0.16752507]\n"
     ]
    }
   ],
   "source": [
    "# Case 1: Probability of both or at least one coin flipping head is favored\n",
    "flipper = CoinFlipSampler(2, probs=[1, 1, 1, 2])\n",
    "initial_guess = [0.2, 0.3]\n",
    "print \"Expected log return for initial guess: \", expected_log_return(initial_guess, flipper)\n",
    "fractions = optimal_kelly_fractions(flipper, initial_guess)\n",
    "print \"Expected log return for final guess: \", expected_log_return(fractions, flipper)\n",
    "print \"Optimized kelly fractions: \", fractions\n"
   ]
  },
  {
   "cell_type": "code",
   "execution_count": 22,
   "metadata": {
    "collapsed": false
   },
   "outputs": [
    {
     "name": "stdout",
     "output_type": "stream",
     "text": [
      "Expected log return for initial guess:  0.219864123759\n",
      "Expected log return for final guess:  0.388898433232\n",
      "Optimized kelly fractions:  [ 0.68172776  0.2578721 ]\n"
     ]
    }
   ],
   "source": [
    "# Case 2: Uniform probability distribution\n",
    "flipper = CoinFlipSampler(2)\n",
    "initial_guess = [0.2, 0.3]\n",
    "print \"Expected log return for initial guess: \", expected_log_return(initial_guess, flipper)\n",
    "fractions = optimal_kelly_fractions(flipper, initial_guess)\n",
    "print \"Expected log return for final guess: \", expected_log_return(fractions, flipper)\n",
    "print \"Optimized kelly fractions: \", fractions\n"
   ]
  },
  {
   "cell_type": "code",
   "execution_count": 23,
   "metadata": {
    "collapsed": false
   },
   "outputs": [
    {
     "name": "stdout",
     "output_type": "stream",
     "text": [
      "Expected log return for initial guess:  0.0701283891099\n",
      "Expected log return for final guess:  0.171396234316\n",
      "Optimized kelly fractions:  [  3.85076888e-01   3.23371163e-01   7.13453790e-02   6.43750541e-17]\n"
     ]
    }
   ],
   "source": [
    "# Case 3: More than two coins\n",
    "flipper = CoinFlipSampler(4)\n",
    "initial_guess = [0.2, 0.3, 0.1, 0.2]\n",
    "print \"Expected log return for initial guess: \", expected_log_return(initial_guess, flipper)\n",
    "fractions = optimal_kelly_fractions(flipper, initial_guess)\n",
    "print \"Expected log return for final guess: \", expected_log_return(fractions, flipper)\n",
    "print \"Optimized kelly fractions: \", fractions\n"
   ]
  },
  {
   "cell_type": "code",
   "execution_count": null,
   "metadata": {
    "collapsed": true
   },
   "outputs": [],
   "source": []
  }
 ],
 "metadata": {
  "anaconda-cloud": {},
  "kernelspec": {
   "display_name": "Python [default]",
   "language": "python",
   "name": "python2"
  },
  "language_info": {
   "codemirror_mode": {
    "name": "ipython",
    "version": 2
   },
   "file_extension": ".py",
   "mimetype": "text/x-python",
   "name": "python",
   "nbconvert_exporter": "python",
   "pygments_lexer": "ipython2",
   "version": "2.7.12"
  }
 },
 "nbformat": 4,
 "nbformat_minor": 1
}
